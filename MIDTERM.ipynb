{
 "cells": [
  {
   "cell_type": "code",
   "execution_count": null,
   "id": "532c3c42",
   "metadata": {},
   "outputs": [],
   "source": [
    "# THIS IS AN EXAMPLE ON HOW TO CREATE RENAME THE INDEX FIELD\n",
    "# REFERENCE WEEK 4 LECTURE NOTES -- TOP OF PAGE\n",
    "#Dataset imports\n",
    "pkmn = pd.read_csv(\"pokemon_long.csv\")\n",
    "pkmn.index = pkmn.name  \n",
    "pkmn.head()\n",
    "\n",
    "\n",
    "\n",
    "##THIS IS A PANDAS LINE PLOT EXAMPLE \n",
    "# REFERENCE WEEK 4 LECTURE NOTES -- TOP OF PAGE\n",
    "fig, ax = plt.subplots(figsize=(15, 5))\n",
    "econ.plot(ax=ax)\n",
    "plt.title(\"US Economic Data\")\n"
   ]
  },
  {
   "cell_type": "code",
   "execution_count": null,
   "id": "960776d9",
   "metadata": {},
   "outputs": [],
   "source": [
    "EXPLAIN THE FOLLOWING AND CREATE 2 JUPYPTER NOTEBOOK EXAMPLES "
   ]
  },
  {
   "cell_type": "code",
   "execution_count": null,
   "id": "ad0e221b",
   "metadata": {},
   "outputs": [],
   "source": [
    "Data Types:\n",
    "1. Numeric data types (floats and ints) and their operations\n",
    "2. Booleans and their operations\n",
    "3. Sequences (lists, tuples, ranges, strings, don’t worry about bytes or bytearrays)\n",
    "4. Other containers (sets, dictionaries)\n",
    "● Know how to create, index, and slice into all of the container types.\n",
    "● Know which containers can be changed using indexing notation."
   ]
  },
  {
   "cell_type": "code",
   "execution_count": null,
   "id": "79b2c83e",
   "metadata": {},
   "outputs": [],
   "source": [
    "    1. Numeric Data Types (floats and ints) and their Operations:\n",
    "    \n",
    "    Explanation:\n",
    "        \n",
    "    Integers (int): These are whole numbers, positive or negative, without a decimal point. For example, 1, -5, 1000.\n",
    "    Floating-point numbers (float): These are numbers with decimal points or in exponential form. For example, 3.14, -0.001, 2.5e3 (which is equivalent to 2500).\n",
    "    \n",
    "    Examples:\n",
    "    Example 1: Basic Arithmetic Operations"
   ]
  },
  {
   "cell_type": "code",
   "execution_count": 3,
   "id": "4ed28ed8",
   "metadata": {},
   "outputs": [
    {
     "name": "stdout",
     "output_type": "stream",
     "text": [
      "Addition: 13.14\n",
      "Subtraction: 2.5\n",
      "Multiplication: 50\n",
      "Division: 1.256\n"
     ]
    }
   ],
   "source": [
    "# Integers\n",
    "a = 10\n",
    "b = 5\n",
    "\n",
    "# Floating-point numbers\n",
    "x = 3.14\n",
    "y = 2.5\n",
    "\n",
    "# Addition\n",
    "result_add = a + x\n",
    "\n",
    "# Subtraction\n",
    "result_sub = b - y\n",
    "\n",
    "# Multiplication\n",
    "result_mul = a * b\n",
    "\n",
    "# Division\n",
    "result_div = x / y\n",
    "\n",
    "print(\"Addition:\", result_add)\n",
    "print(\"Subtraction:\", result_sub)\n",
    "print(\"Multiplication:\", result_mul)\n",
    "print(\"Division:\", result_div)\n"
   ]
  },
  {
   "cell_type": "code",
   "execution_count": null,
   "id": "8b422127",
   "metadata": {},
   "outputs": [],
   "source": [
    "    Example 2: Operations with Integers"
   ]
  },
  {
   "cell_type": "code",
   "execution_count": 4,
   "id": "bc1c7120",
   "metadata": {},
   "outputs": [
    {
     "name": "stdout",
     "output_type": "stream",
     "text": [
      "Integer Division: 2\n",
      "Modulo: 0\n",
      "Exponentiation: 100\n"
     ]
    }
   ],
   "source": [
    "# Integer Division\n",
    "result_int_div = a // b\n",
    "\n",
    "# Modulo (Remainder)\n",
    "result_modulo = a % b\n",
    "\n",
    "# Exponentiation\n",
    "result_pow = a ** 2\n",
    "\n",
    "print(\"Integer Division:\", result_int_div)\n",
    "print(\"Modulo:\", result_modulo)\n",
    "print(\"Exponentiation:\", result_pow)\n"
   ]
  },
  {
   "cell_type": "code",
   "execution_count": null,
   "id": "2a04bfd1",
   "metadata": {},
   "outputs": [],
   "source": [
    "    2. Booleans and their Operations:\n",
    "    Explanation:\n",
    "    Booleans (bool): These represent two constant values: True and False. They are often used in conditional statements and logical operations.\n",
    "    Examples:\n",
    "    Example 1: Boolean Values and Logical Operations"
   ]
  },
  {
   "cell_type": "code",
   "execution_count": 5,
   "id": "63e9bfc3",
   "metadata": {},
   "outputs": [
    {
     "name": "stdout",
     "output_type": "stream",
     "text": [
      "Logical AND: True\n",
      "Logical OR: True\n",
      "Logical NOT: False\n"
     ]
    }
   ],
   "source": [
    "# Boolean values\n",
    "is_student = True\n",
    "has_homework = False\n",
    "\n",
    "# Logical AND\n",
    "result_and = is_student and (not has_homework)\n",
    "\n",
    "# Logical OR\n",
    "result_or = is_student or has_homework\n",
    "\n",
    "# Logical NOT\n",
    "result_not = not is_student\n",
    "\n",
    "print(\"Logical AND:\", result_and)\n",
    "print(\"Logical OR:\", result_or)\n",
    "print(\"Logical NOT:\", result_not)\n"
   ]
  },
  {
   "cell_type": "code",
   "execution_count": null,
   "id": "6f83b0a3",
   "metadata": {},
   "outputs": [],
   "source": [
    "    3. Sequences (Lists, Tuples, Ranges, Strings):\n",
    "    \n",
    "    Explanation:\n",
    "        \n",
    "    Lists: Ordered collections of items that can be of different data types and are mutable (can be changed).\n",
    "    Tuples: Ordered collections like lists but immutable (cannot be changed).\n",
    "    Ranges: Represents a sequence of numbers and is often used in loops.\n",
    "    Strings: Sequences of characters.\n",
    "    \n",
    "    Examples:\n",
    "    Example 1: Lists and Tuples"
   ]
  },
  {
   "cell_type": "code",
   "execution_count": 6,
   "id": "21965203",
   "metadata": {},
   "outputs": [
    {
     "name": "stdout",
     "output_type": "stream",
     "text": [
      "First fruit: apple\n",
      "Second color: green\n",
      "Fruits after adding 'orange': ['apple', 'banana', 'cherry', 'orange']\n"
     ]
    }
   ],
   "source": [
    "# Lists\n",
    "fruits = ['apple', 'banana', 'cherry']\n",
    "\n",
    "# Tuples\n",
    "colors = ('red', 'green', 'blue')\n",
    "\n",
    "# Accessing elements\n",
    "print(\"First fruit:\", fruits[0])\n",
    "print(\"Second color:\", colors[1])\n",
    "\n",
    "# Modifying a list\n",
    "fruits.append('orange')\n",
    "print(\"Fruits after adding 'orange':\", fruits)\n",
    "\n",
    "# Attempting to modify a tuple (will result in an error)\n",
    "# colors[0] = 'purple'\n"
   ]
  },
  {
   "cell_type": "code",
   "execution_count": null,
   "id": "49a140ed",
   "metadata": {},
   "outputs": [],
   "source": [
    "    Example 2: Strings and Ranges"
   ]
  },
  {
   "cell_type": "code",
   "execution_count": 7,
   "id": "02c22652",
   "metadata": {},
   "outputs": [
    {
     "name": "stdout",
     "output_type": "stream",
     "text": [
      "First character: H\n",
      "Substring: World\n",
      "1\n",
      "2\n",
      "3\n",
      "4\n",
      "5\n"
     ]
    }
   ],
   "source": [
    "# Strings\n",
    "message = \"Hello, World!\"\n",
    "\n",
    "# Accessing characters\n",
    "print(\"First character:\", message[0])\n",
    "print(\"Substring:\", message[7:12])\n",
    "\n",
    "# Ranges\n",
    "numbers = range(1, 6)  # Represents [1, 2, 3, 4, 5]\n",
    "\n",
    "# Using a range in a loop\n",
    "for num in numbers:\n",
    "    print(num)\n"
   ]
  },
  {
   "cell_type": "code",
   "execution_count": null,
   "id": "6e6eb528",
   "metadata": {},
   "outputs": [],
   "source": [
    "    4. Other Containers (Sets, Dictionaries):\n",
    "    \n",
    "    Explanation:\n",
    "        \n",
    "    Sets: Unordered collections of unique items.\n",
    "    Dictionaries: Key-value pairs, where keys are unique.\n",
    "    \n",
    "    Examples:\n",
    "    Example 1: Sets"
   ]
  },
  {
   "cell_type": "code",
   "execution_count": 8,
   "id": "c67da074",
   "metadata": {},
   "outputs": [
    {
     "name": "stdout",
     "output_type": "stream",
     "text": [
      "Fruits Set: {'apple', 'orange', 'banana'}\n",
      "Is 'mango' in the set? False\n"
     ]
    }
   ],
   "source": [
    "# Sets are in curly brackets\n",
    "fruits_set = {'apple', 'banana', 'cherry'}\n",
    "\n",
    "# Adding an item\n",
    "fruits_set.add('orange')\n",
    "\n",
    "# Removing an item\n",
    "fruits_set.remove('cherry')\n",
    "\n",
    "# Checking membership\n",
    "is_mango_in_set = 'mango' in fruits_set\n",
    "\n",
    "print(\"Fruits Set:\", fruits_set)\n",
    "print(\"Is 'mango' in the set?\", is_mango_in_set)\n"
   ]
  },
  {
   "cell_type": "code",
   "execution_count": null,
   "id": "6e383f51",
   "metadata": {},
   "outputs": [],
   "source": [
    "    Example 2: Dictionaries"
   ]
  },
  {
   "cell_type": "code",
   "execution_count": 9,
   "id": "6cf2a791",
   "metadata": {},
   "outputs": [
    {
     "name": "stdout",
     "output_type": "stream",
     "text": [
      "Student Name: Alice\n",
      "Student Age: 21\n",
      "Updated Student Info: {'name': 'Alice', 'age': 22, 'major': 'Computer Science', 'gpa': 3.8}\n"
     ]
    }
   ],
   "source": [
    "# Dictionaries\n",
    "student_info = {\n",
    "    'name': 'Alice',\n",
    "    'age': 21,\n",
    "    'major': 'Computer Science'\n",
    "}\n",
    "\n",
    "# Accessing values\n",
    "print(\"Student Name:\", student_info['name'])\n",
    "print(\"Student Age:\", student_info['age'])\n",
    "\n",
    "# Modifying a value\n",
    "student_info['age'] = 22\n",
    "\n",
    "# Adding a new key-value pair\n",
    "student_info['gpa'] = 3.8\n",
    "\n",
    "print(\"Updated Student Info:\", student_info)\n"
   ]
  },
  {
   "cell_type": "code",
   "execution_count": null,
   "id": "788060ee",
   "metadata": {},
   "outputs": [],
   "source": [
    "● Know how to create, index, and slice into all of the container types.\n",
    "● Know which containers can be changed using indexing notation."
   ]
  },
  {
   "cell_type": "code",
   "execution_count": null,
   "id": "aea84db0",
   "metadata": {},
   "outputs": [],
   "source": [
    "    Creating, Indexing, and Slicing Containers:\n",
    "\n",
    "    Lists:\n",
    "        Creation: Lists are created using square brackets [].\n",
    "        Indexing: Elements in a list are accessed using zero-based indexing. For example, my_list[0] accesses the first element.\n",
    "        Slicing: Slicing allows you to extract a portion of the list using the format my_list[start:stop:step]."
   ]
  },
  {
   "cell_type": "code",
   "execution_count": null,
   "id": "aaea3bec",
   "metadata": {},
   "outputs": [],
   "source": [
    "    Example 1: Creating and Indexing a List\n"
   ]
  },
  {
   "cell_type": "code",
   "execution_count": 10,
   "id": "e870afe4",
   "metadata": {},
   "outputs": [
    {
     "name": "stdout",
     "output_type": "stream",
     "text": [
      "3\n"
     ]
    }
   ],
   "source": [
    "my_list = [1, 2, 3, 4, 5]\n",
    "element = my_list[2]  # Accessing the third element (3)\n",
    "print(element)"
   ]
  },
  {
   "cell_type": "code",
   "execution_count": null,
   "id": "1522ab37",
   "metadata": {},
   "outputs": [],
   "source": [
    "    Example 2: Slicing a List"
   ]
  },
  {
   "cell_type": "code",
   "execution_count": 11,
   "id": "733fb380",
   "metadata": {},
   "outputs": [
    {
     "name": "stdout",
     "output_type": "stream",
     "text": [
      "[2, 3, 4]\n"
     ]
    }
   ],
   "source": [
    "my_list = [1, 2, 3, 4, 5]\n",
    "subset = my_list[1:4]  # Slicing from index 1 to 3 (inclusive)\n",
    "print(subset)  # Output: [2, 3, 4]\n"
   ]
  },
  {
   "cell_type": "code",
   "execution_count": null,
   "id": "3dbcd968",
   "metadata": {},
   "outputs": [],
   "source": [
    "    Tuples:        \n",
    "        Creation: Tuples are created using parentheses ().\n",
    "        Indexing: Similar to lists, elements in a tuple are accessed using zero-based indexing.\n",
    "        Slicing: You can also slice tuples just like lists."
   ]
  },
  {
   "cell_type": "code",
   "execution_count": null,
   "id": "9392e8d8",
   "metadata": {},
   "outputs": [],
   "source": [
    "    Example 1: Creating and Indexing a Tuple"
   ]
  },
  {
   "cell_type": "code",
   "execution_count": 12,
   "id": "8f522019",
   "metadata": {},
   "outputs": [
    {
     "name": "stdout",
     "output_type": "stream",
     "text": [
      "40\n"
     ]
    }
   ],
   "source": [
    "my_tuple = (10, 20, 30, 40, 50)\n",
    "element = my_tuple[3]  # Accessing the fourth element (40)\n",
    "print(element)\n"
   ]
  },
  {
   "cell_type": "code",
   "execution_count": null,
   "id": "1ce300da",
   "metadata": {},
   "outputs": [],
   "source": [
    "    Example 2: Slicing a Tuple"
   ]
  },
  {
   "cell_type": "code",
   "execution_count": 13,
   "id": "7d645211",
   "metadata": {},
   "outputs": [
    {
     "name": "stdout",
     "output_type": "stream",
     "text": [
      "(20, 30, 40)\n"
     ]
    }
   ],
   "source": [
    "my_tuple = (10, 20, 30, 40, 50)\n",
    "subset = my_tuple[1:4]  # Slicing from index 1 to 3 (inclusive)\n",
    "print(subset)  # Output: (20, 30, 40)"
   ]
  },
  {
   "cell_type": "code",
   "execution_count": null,
   "id": "4a9dda3c",
   "metadata": {},
   "outputs": [],
   "source": [
    "    Strings:\n",
    "        \n",
    "        Creation: Strings are created using single or double quotes (' or \").\n",
    "        Indexing: Characters in a string can be accessed using indexing, just like lists and tuples.\n",
    "        Slicing: You can slice strings to obtain substrings."
   ]
  },
  {
   "cell_type": "code",
   "execution_count": null,
   "id": "9f80ca76",
   "metadata": {},
   "outputs": [],
   "source": [
    "    Example 1: Indexing a String"
   ]
  },
  {
   "cell_type": "code",
   "execution_count": 14,
   "id": "3f37a8d5",
   "metadata": {},
   "outputs": [
    {
     "name": "stdout",
     "output_type": "stream",
     "text": [
      "W\n"
     ]
    }
   ],
   "source": [
    "my_string = \"Hello, World!\"\n",
    "char = my_string[7]  # Accessing the character 'W'\n",
    "print(char)\n"
   ]
  },
  {
   "cell_type": "code",
   "execution_count": null,
   "id": "b927b850",
   "metadata": {},
   "outputs": [],
   "source": [
    "    Example 2: Slicing a String\n"
   ]
  },
  {
   "cell_type": "code",
   "execution_count": 15,
   "id": "9671b867",
   "metadata": {},
   "outputs": [
    {
     "name": "stdout",
     "output_type": "stream",
     "text": [
      "Hello\n"
     ]
    }
   ],
   "source": [
    "my_string = \"Hello, World!\"\n",
    "substring = my_string[0:5]  # Slicing from index 0 to 4 (inclusive)\n",
    "print(substring)  # Output: \"Hello\"\n"
   ]
  },
  {
   "cell_type": "code",
   "execution_count": null,
   "id": "16cbaa76",
   "metadata": {},
   "outputs": [],
   "source": [
    "    Sets:\n",
    "        \n",
    "    Creation: Sets are created using curly braces {} or the set() constructor.\n",
    "    Indexing/Slicing: Sets are unordered collections, so they don't support indexing or slicing."
   ]
  },
  {
   "cell_type": "code",
   "execution_count": null,
   "id": "d43f290a",
   "metadata": {},
   "outputs": [],
   "source": [
    "    Example 1: Creating a Set"
   ]
  },
  {
   "cell_type": "code",
   "execution_count": 16,
   "id": "3905958b",
   "metadata": {},
   "outputs": [],
   "source": [
    "my_set = {1, 2, 3}"
   ]
  },
  {
   "cell_type": "code",
   "execution_count": null,
   "id": "03244a80",
   "metadata": {},
   "outputs": [],
   "source": [
    "    Dictionaries:\n",
    "        \n",
    "        Creation: Dictionaries are created using curly braces {} or the dict() constructor with key-value pairs.\n",
    "        Indexing: Dictionary values are accessed by specifying the key in square brackets.\n",
    "        Slicing: Dictionaries don't support slicing since they are not ordered like sequences."
   ]
  },
  {
   "cell_type": "code",
   "execution_count": null,
   "id": "c083200d",
   "metadata": {},
   "outputs": [],
   "source": [
    "    Example 1: Creating and Indexing a Dictionary"
   ]
  },
  {
   "cell_type": "code",
   "execution_count": 17,
   "id": "b7e41208",
   "metadata": {},
   "outputs": [
    {
     "name": "stdout",
     "output_type": "stream",
     "text": [
      "Alice\n"
     ]
    }
   ],
   "source": [
    "my_dict = {'name': 'Alice', 'age': 25}\n",
    "value = my_dict['name']  # Accessing the value associated with the 'name' key\n",
    "print(value)\n"
   ]
  },
  {
   "cell_type": "code",
   "execution_count": null,
   "id": "092b5f30",
   "metadata": {},
   "outputs": [],
   "source": [
    "    Containers That Can Be Changed Using Indexing Notation:\n",
    "        \n",
    "        Lists: Lists are mutable, meaning you can change their elements using indexing notation. \n",
    "        For example, you can assign a new value to my_list[2].\n",
    "\n",
    "        Dictionaries: You can modify the values associated with keys in a dictionary using indexing notation. \n",
    "        For example, my_dict['age'] = 26 would update the 'age' value.\n",
    "\n",
    "        Containers like tuples, strings, and sets are immutable, meaning their contents cannot be changed once \n",
    "        they are created. You can't modify individual elements or characters in tuples and strings. \n",
    "        Sets are unordered and don't have indices or elements that can be individually addressed or changed."
   ]
  },
  {
   "cell_type": "code",
   "execution_count": null,
   "id": "491d71bb",
   "metadata": {},
   "outputs": [],
   "source": [
    "EXPLAIN THE FOLLOWING AND CREATE 2 JUPYPTER NOTEBOOK EXAMPLES "
   ]
  },
  {
   "cell_type": "code",
   "execution_count": null,
   "id": "6ec2f4c3",
   "metadata": {},
   "outputs": [],
   "source": [
    "Indexing in Python:\n",
    "    \n",
    "● Know where python starts indexing.\n",
    "● You can reverse a sequence using the bracket notation with a negative step. [::-1"
   ]
  },
  {
   "cell_type": "code",
   "execution_count": null,
   "id": "8f0b0420",
   "metadata": {},
   "outputs": [],
   "source": [
    "        Indexing in Python:\n",
    "\n",
    "        In Python, indexing is the process of accessing individual elements within a sequence \n",
    "        (e.g., lists, strings, tuples) using their position or index. Python uses zero-based indexing, \n",
    "        which means the index of the first element in a sequence is 0, the second element has an index of 1, \n",
    "        and so on. Here are some key points:\n",
    "\n",
    "        - Python starts indexing from 0: The first element in a sequence is at index 0, the second element \n",
    "            is at index 1, and so forth.\n",
    "\n",
    "        - Negative indexing: Python allows you to use negative indices to count from the end of the sequence. \n",
    "            For example, -1 refers to the last element, -2 refers to the second-to-last element, and so on.\n",
    "\n",
    "        - Slicing with `[start:stop:step]`: You can use slicing to extract a portion of a sequence. \n",
    "            The slicing notation `[start:stop:step]` allows you to specify a starting index (`start`), \n",
    "            an ending index (`stop`), and an optional step value (`step`) to control the interval."
   ]
  },
  {
   "cell_type": "code",
   "execution_count": null,
   "id": "55b4bd38",
   "metadata": {},
   "outputs": [],
   "source": [
    "    Example 1: Indexing in Python\n",
    "        \n",
    "        Let's create a list and a string to demonstrate indexing"
   ]
  },
  {
   "cell_type": "code",
   "execution_count": 18,
   "id": "4ecc4d51",
   "metadata": {},
   "outputs": [
    {
     "name": "stdout",
     "output_type": "stream",
     "text": [
      "First Element: 10\n",
      "Last Element: 50\n",
      "Third Character: l\n",
      "Second-to-Last Character: n\n"
     ]
    }
   ],
   "source": [
    "# Create a list\n",
    "my_list = [10, 20, 30, 40, 50]\n",
    "\n",
    "# Create a string\n",
    "my_string = \"Hello, Python!\"\n",
    "\n",
    "# Accessing elements using positive and negative indexing\n",
    "first_element = my_list[0]  # Positive index (10)\n",
    "last_element = my_list[-1]   # Negative index (50)\n",
    "third_character = my_string[2]  # Positive index ('l')\n",
    "second_to_last_character = my_string[-2]  # Negative index ('n')\n",
    "\n",
    "print(\"First Element:\", first_element)\n",
    "print(\"Last Element:\", last_element)\n",
    "print(\"Third Character:\", third_character)\n",
    "print(\"Second-to-Last Character:\", second_to_last_character)"
   ]
  },
  {
   "cell_type": "code",
   "execution_count": null,
   "id": "9eaecbe5",
   "metadata": {},
   "outputs": [],
   "source": [
    "        Example 2: Reversing a Sequence\n",
    "        \n",
    "            You can reverse a sequence (e.g., list, string) in Python using slicing with a negative step value ([::-1]). \n",
    "            This step value iterates through the sequence in reverse order."
   ]
  },
  {
   "cell_type": "code",
   "execution_count": 19,
   "id": "60b00084",
   "metadata": {},
   "outputs": [
    {
     "name": "stdout",
     "output_type": "stream",
     "text": [
      "Reversed List: [5, 4, 3, 2, 1]\n",
      "Reversed String: nohtyP\n"
     ]
    }
   ],
   "source": [
    "# Create a list\n",
    "my_list = [1, 2, 3, 4, 5]\n",
    "\n",
    "# Create a string\n",
    "my_string = \"Python\"\n",
    "\n",
    "# Reverse the list and string using slicing\n",
    "reversed_list = my_list[::-1]\n",
    "reversed_string = my_string[::-1]\n",
    "\n",
    "print(\"Reversed List:\", reversed_list)  # Output: [5, 4, 3, 2, 1]\n",
    "print(\"Reversed String:\", reversed_string)  # Output: \"nohtyP\"\n"
   ]
  },
  {
   "cell_type": "code",
   "execution_count": null,
   "id": "5e0e6f2d",
   "metadata": {},
   "outputs": [],
   "source": [
    "EXPLAIN THE FOLLOWING AND CREATE 2 JUPYPTER NOTEBOOK EXAMPLES "
   ]
  },
  {
   "cell_type": "code",
   "execution_count": null,
   "id": "df9f2b28",
   "metadata": {},
   "outputs": [],
   "source": [
    "Truth Values of Different Data Types:\n",
    "    \n",
    "In Python, various data types have associated truth values when used in a Boolean context \n",
    "(e.g., in conditional statements like if and while).\n",
    "\n",
    "False: Certain values are considered \"false\" when used in a Boolean context, such as False, 0, \n",
    "    empty sequences (e.g., empty strings, lists, tuples), and None.\n",
    "    \n",
    "True: Everything else is considered \"true\" when used in a Boolean context."
   ]
  },
  {
   "cell_type": "code",
   "execution_count": null,
   "id": "82b416f6",
   "metadata": {},
   "outputs": [],
   "source": [
    "    Example 2: Truth Values"
   ]
  },
  {
   "cell_type": "code",
   "execution_count": 20,
   "id": "d108ce01",
   "metadata": {},
   "outputs": [
    {
     "name": "stdout",
     "output_type": "stream",
     "text": [
      "Value1 is false\n",
      "Value2 is true\n",
      "Value3 is false\n"
     ]
    }
   ],
   "source": [
    "value1 = 0                    # zero will print FALSE\n",
    "value2 = \"Hello\"              #contains a string will print TRUE\n",
    "value3 = None                 #None will print FALSE\n",
    "\n",
    "if value1:\n",
    "    print(\"Value1 is true\")\n",
    "else:\n",
    "    print(\"Value1 is false\")  # Output: Value1 is false\n",
    "\n",
    "if value2:\n",
    "    print(\"Value2 is true\")  # Output: Value2 is true\n",
    "else:\n",
    "    print(\"Value2 is false\")\n",
    "\n",
    "if value3:\n",
    "    print(\"Value3 is true\")\n",
    "else:\n",
    "    print(\"Value3 is false\")  # Output: Value3 is false\n"
   ]
  },
  {
   "cell_type": "code",
   "execution_count": null,
   "id": "842c002a",
   "metadata": {},
   "outputs": [],
   "source": [
    "    Use of Different Data Types in Control Flow Statements:\n",
    "        \n",
    "        Data types play a crucial role in control flow statements like if, elif, else, while, and for. \n",
    "        These statements make decisions based on the truthiness or falsiness of expressions."
   ]
  },
  {
   "cell_type": "code",
   "execution_count": null,
   "id": "056ff67b",
   "metadata": {},
   "outputs": [],
   "source": [
    "    Example 3: Using Data Types in Control Flow"
   ]
  },
  {
   "cell_type": "code",
   "execution_count": 21,
   "id": "8b139ece",
   "metadata": {},
   "outputs": [
    {
     "name": "stdout",
     "output_type": "stream",
     "text": [
      "You are an adult.\n",
      "Counter: 5\n",
      "Counter: 4\n",
      "Counter: 3\n",
      "Counter: 2\n",
      "Counter: 1\n",
      "Number: 1\n",
      "Number: 2\n",
      "Number: 3\n",
      "Number: 4\n",
      "Number: 5\n"
     ]
    }
   ],
   "source": [
    "user_age = 18\n",
    "\n",
    "if user_age >= 18:\n",
    "    print(\"You are an adult.\")\n",
    "else:\n",
    "    print(\"You are a minor.\")\n",
    "\n",
    "# Using a while loop with a condition\n",
    "counter = 5\n",
    "\n",
    "while counter > 0:\n",
    "    print(f\"Counter: {counter}\")\n",
    "    counter -= 1\n",
    "\n",
    "# Using a for loop with a list of numbers\n",
    "numbers = [1, 2, 3, 4, 5]\n",
    "for num in numbers:\n",
    "    print(f\"Number: {num}\")\n",
    "\n",
    "    "
   ]
  },
  {
   "cell_type": "code",
   "execution_count": 25,
   "id": "262c941e",
   "metadata": {
    "scrolled": true
   },
   "outputs": [],
   "source": [
    "EXPLAIN THE FOLLOWING AND CREATE 2 JUPYPTER NOTEBOOK EXAMPLES "
   ]
  },
  {
   "cell_type": "code",
   "execution_count": null,
   "id": "fe0ce0e9",
   "metadata": {},
   "outputs": [],
   "source": [
    "Control flow:\n",
    "● Know how to use the keywords if, while, for\n",
    "● Know the order of evaluation in if statements\n",
    "● Be able to discern when an infinite while loop will occur\n",
    "● Know that the range() function commonly used in for loops is exclusive of the end\n",
    "● Know how to use enumerate() in a for loop"
   ]
  },
  {
   "cell_type": "code",
   "execution_count": null,
   "id": "9711fb9e",
   "metadata": {},
   "outputs": [],
   "source": [
    "Control Flow Concepts:\n",
    "\n",
    "Keywords if, while, and for:\n",
    "\n",
    "if: Used for conditional statements to execute code blocks based on a condition.\n",
    "\n",
    "while: Used for creating loops that continue as long as a certain condition is true.\n",
    "\n",
    "for: Used for iterating over sequences (e.g., lists, strings, ranges) or other iterable objects.\n",
    "\n",
    "    \n",
    "    \n",
    "Order of Evaluation in if Statements:\n",
    "    \n",
    "\n",
    "In an if statement, conditions are evaluated from left to right.\n",
    "The first condition that is True causes the corresponding code block to execute, and the rest of the conditions are skipped.\n",
    "Infinite while Loop:\n",
    "\n",
    "An infinite while loop occurs when the loop condition is always True, and there is no exit condition.\n",
    "Care should be taken to include a way to exit the loop, such as modifying loop variables.\n",
    "range() Function in for Loops:\n",
    "    \n",
    "       \n",
    "\n",
    "The range() function generates a sequence of numbers.\n",
    "In for loops, the range() function is often used to iterate over a sequence of numbers.\n",
    "Note that the range() function is exclusive of the end value specified.\n",
    "\n",
    "\n",
    "enumerate() Function in for Loops:\n",
    "The enumerate() function is used in for loops to iterate over elements of an iterable along with their indices.\n",
    "It returns pairs of (index, value) for each element in the iterable."
   ]
  },
  {
   "cell_type": "code",
   "execution_count": null,
   "id": "55274e85",
   "metadata": {},
   "outputs": [],
   "source": [
    "    Example 1: Using if and while Statements"
   ]
  },
  {
   "cell_type": "code",
   "execution_count": 22,
   "id": "bf4e2dc6",
   "metadata": {},
   "outputs": [
    {
     "name": "stdout",
     "output_type": "stream",
     "text": [
      "Condition 1 is True\n",
      "Count: 0\n",
      "Count: 1\n",
      "Count: 2\n",
      "Count: 3\n",
      "Count: 4\n"
     ]
    }
   ],
   "source": [
    "# Example of if statement and order of evaluation\n",
    "x = 10\n",
    "y = 5\n",
    "\n",
    "if x > y and y > 0:\n",
    "    print(\"Condition 1 is True\")\n",
    "elif x < y:\n",
    "    print(\"Condition 2 is True\")\n",
    "else:\n",
    "    print(\"None of the conditions are True\")\n",
    "\n",
    "# Example of an infinite while loop (with a way to exit)\n",
    "count = 0\n",
    "while True:\n",
    "    print(f\"Count: {count}\")\n",
    "    count += 1\n",
    "    if count >= 5:\n",
    "        break  # Exit the loop after 5 iterations\n"
   ]
  },
  {
   "cell_type": "code",
   "execution_count": null,
   "id": "169904ce",
   "metadata": {},
   "outputs": [],
   "source": [
    "    Example 2: Using for Loop, range(), and enumerate()"
   ]
  },
  {
   "cell_type": "code",
   "execution_count": 23,
   "id": "2ef355af",
   "metadata": {},
   "outputs": [
    {
     "name": "stdout",
     "output_type": "stream",
     "text": [
      "Number: 1\n",
      "Number: 2\n",
      "Number: 3\n",
      "Number: 4\n",
      "Number: 5\n",
      "Index: 0, Fruit: apple\n",
      "Index: 1, Fruit: banana\n",
      "Index: 2, Fruit: cherry\n"
     ]
    }
   ],
   "source": [
    "# Using range() in a for loop (exclusive of end value)\n",
    "for i in range(1, 6):  # Generates numbers from 1 to 5\n",
    "    print(f\"Number: {i}\")\n",
    "\n",
    "# Using enumerate() in a for loop\n",
    "fruits = ['apple', 'banana', 'cherry']\n",
    "for index, fruit in enumerate(fruits):\n",
    "    print(f\"Index: {index}, Fruit: {fruit}\")\n"
   ]
  },
  {
   "cell_type": "code",
   "execution_count": null,
   "id": "e4e7741c",
   "metadata": {},
   "outputs": [],
   "source": [
    "EXPLAIN THE FOLLOWING AND CREATE 2 JUPYPTER NOTEBOOK EXAMPLES "
   ]
  },
  {
   "cell_type": "code",
   "execution_count": null,
   "id": "22cfbbf4",
   "metadata": {},
   "outputs": [],
   "source": [
    "Functions:\n",
    "● Understand the different motivations behind why we use them\n",
    "● Be able to define your own function\n",
    "● Know that functions are objects in python\n",
    "● Understand the difference between global and local variables\n",
    "● Know what the difference is between a function and a method"
   ]
  },
  {
   "cell_type": "code",
   "execution_count": null,
   "id": "90303188",
   "metadata": {},
   "outputs": [],
   "source": [
    "Functions in Python:\n",
    "Motivations for Using Functions:\n",
    "\n",
    "Functions are used to break down a program into smaller, reusable pieces of code.\n",
    "They improve code organization, readability, and maintainability.\n",
    "Functions allow you to encapsulate logic, making it easier to test and debug.\n",
    "They enable code reuse, reducing redundancy.\n",
    "\n",
    "Defining Your Own Function:\n",
    "\n",
    "You can define your own functions using the def keyword followed by a function name, parameters (if any), and a code block.\n",
    "Functions are defined using a colon : to indicate the beginning of the function body.\n",
    "\n",
    "Functions as Objects in Python:\n",
    "\n",
    "In Python, functions are first-class objects, which means they can be assigned to variables, passed as arguments to other functions, \n",
    "and returned as values from functions.\n",
    "\n",
    "Global and Local Variables:\n",
    "\n",
    "Global variables are defined outside of functions and can be accessed anywhere in the program.\n",
    "Local variables are defined inside a function and are only accessible within that function's scope.\n",
    "\n",
    "Difference Between Function and Method:\n",
    "\n",
    "A function is a standalone piece of code that performs a specific task and is not associated with an object.\n",
    "A method, on the other hand, is a function that is associated with an object and operates on that object's data."
   ]
  },
  {
   "cell_type": "code",
   "execution_count": null,
   "id": "0abfab13",
   "metadata": {},
   "outputs": [],
   "source": [
    "    Example 1: Defining and Using a Function"
   ]
  },
  {
   "cell_type": "code",
   "execution_count": 26,
   "id": "ee9de560",
   "metadata": {},
   "outputs": [
    {
     "name": "stdout",
     "output_type": "stream",
     "text": [
      "Square of 5: 25\n"
     ]
    }
   ],
   "source": [
    "# Define a function to calculate the square of a number\n",
    "def square(x):\n",
    "    return x ** 2\n",
    "\n",
    "# Use the function\n",
    "result = square(5)\n",
    "print(\"Square of 5:\", result)\n"
   ]
  },
  {
   "cell_type": "code",
   "execution_count": null,
   "id": "9b3d5063",
   "metadata": {},
   "outputs": [],
   "source": [
    "    Example 2: Functions as Objects and Global/Local Variables"
   ]
  },
  {
   "cell_type": "code",
   "execution_count": 27,
   "id": "0f893505",
   "metadata": {},
   "outputs": [
    {
     "name": "stdout",
     "output_type": "stream",
     "text": [
      "Result: 60\n",
      "Function Object: 70\n"
     ]
    }
   ],
   "source": [
    "# Define a global variable\n",
    "global_var = 10\n",
    "\n",
    "# Define a function\n",
    "def my_function(x):\n",
    "    # Define a local variable\n",
    "    local_var = 20\n",
    "    return x + global_var + local_var\n",
    "\n",
    "# Use the function\n",
    "result = my_function(30)\n",
    "print(\"Result:\", result)\n",
    "\n",
    "# Functions as objects\n",
    "function_object = my_function\n",
    "print(\"Function Object:\", function_object(40))\n"
   ]
  },
  {
   "cell_type": "code",
   "execution_count": null,
   "id": "ad4f812e",
   "metadata": {},
   "outputs": [],
   "source": [
    "EXPLAIN THE FOLLOWING AND CREATE 2 JUPYPTER NOTEBOOK EXAMPLES "
   ]
  },
  {
   "cell_type": "code",
   "execution_count": null,
   "id": "3ffcb98a",
   "metadata": {},
   "outputs": [],
   "source": [
    "Packages\n",
    "● Know what packages we use and why"
   ]
  },
  {
   "cell_type": "code",
   "execution_count": null,
   "id": "e905d2d0",
   "metadata": {},
   "outputs": [],
   "source": [
    "Packages in Python are collections of related modules that provide additional functionality for your Python programs. \n",
    "These packages are created and maintained by the Python community and can be easily integrated into your code to extend \n",
    "its capabilities. Here are a few key points about packages and their importance:\n",
    "\n",
    "Packages Enhance Python's Functionality:\n",
    "\n",
    "Python packages contain pre-written code, often in the form of functions, classes, and modules, that address specific tasks \n",
    "or provide specialized functionality. Using packages can save you a significant amount of development time because \n",
    "you don't have to reinvent the wheel by writing everything from scratch. \n",
    "\n",
    "Commonly Used Packages:\n",
    "\n",
    "Python has a vast ecosystem of packages that cover a wide range of domains, including data science, web development, \n",
    "machine learning, scientific computing, and more.\n",
    "\n",
    "Some commonly used packages include:\n",
    "    \n",
    "    NumPy: For numerical computing and working with arrays.\n",
    "    Pandas: For data manipulation and analysis.\n",
    "    Matplotlib: For data visualization.\n",
    "    Requests: For making HTTP requests to web services.\n",
    "    Flask and Django: For web development.\n",
    "    TensorFlow and PyTorch: For machine learning and deep learning.\n",
    "    Beautiful Soup: For web scraping.\n",
    "    SQLAlchemy: For database interaction.\n",
    "    \n",
    "Installing and Importing Packages:\n",
    "\n",
    "To use a package, you need to install it first. You can use the pip or conda package manager to install packages.\n",
    "Once installed, you can import the package and use its modules and functions in your Python code."
   ]
  },
  {
   "cell_type": "code",
   "execution_count": null,
   "id": "7d5d9062",
   "metadata": {},
   "outputs": [],
   "source": [
    "    Example 1: Using NumPy for Array Operations:\n",
    "\n",
    "    NumPy is a popular package for numerical computations and working with arrays."
   ]
  },
  {
   "cell_type": "code",
   "execution_count": 28,
   "id": "dbf1a396",
   "metadata": {},
   "outputs": [
    {
     "name": "stdout",
     "output_type": "stream",
     "text": [
      "Array: [1 2 3 4 5]\n",
      "Mean: 3.0\n",
      "Sum: 15\n"
     ]
    }
   ],
   "source": [
    "# Install NumPy (if not already installed)\n",
    "# !pip install numpy\n",
    "\n",
    "# Import NumPy\n",
    "import numpy as np\n",
    "\n",
    "# Create a NumPy array\n",
    "arr = np.array([1, 2, 3, 4, 5])\n",
    "\n",
    "        # [1, 2, 3, 4, 5] is a Python list containing the elements 1, 2, 3, 4, and 5 enclosed within square brackets. \n",
    "        # It represents the data that you want to convert into a NumPy array.\n",
    "        # np.array(...) is a NumPy function call. It takes the list [1, 2, 3, 4, 5] as an argument and converts it into a NumPy array. \n",
    "        # The parentheses ( ) here are used for function call syntax in Python.\n",
    "        # So, when you see np.array([1, 2, 3, 4, 5]), it means you are using the np.array() function to create a NumPy array from \n",
    "        # the list [1, 2, 3, 4, 5]. The square brackets [ ] specifically indicate that you are working with an array-like \n",
    "        # structure in Python.\n",
    "\n",
    "# Perform array operations\n",
    "mean_value = np.mean(arr)\n",
    "sum_value = np.sum(arr)\n",
    "\n",
    "print(\"Array:\", arr)\n",
    "print(\"Mean:\", mean_value)\n",
    "print(\"Sum:\", sum_value)\n"
   ]
  },
  {
   "cell_type": "code",
   "execution_count": null,
   "id": "8f50a049",
   "metadata": {},
   "outputs": [],
   "source": [
    "    Example 2: Using Pandas for Data Analysis:\n",
    "    Pandas is widely used for data manipulation and analysis tasks."
   ]
  },
  {
   "cell_type": "code",
   "execution_count": 29,
   "id": "de5b64ef",
   "metadata": {},
   "outputs": [
    {
     "name": "stdout",
     "output_type": "stream",
     "text": [
      "DataFrame:\n",
      "      Name  Age\n",
      "0    Alice   25\n",
      "1      Bob   30\n",
      "2  Charlie   35\n",
      "Average Age: 30.0\n"
     ]
    }
   ],
   "source": [
    "# Install Pandas (if not already installed)\n",
    "# !pip install pandas\n",
    "\n",
    "# Import Pandas\n",
    "import pandas as pd\n",
    "\n",
    "# Create a DataFrame (a tabular data structure)\n",
    "data = {'Name': ['Alice', 'Bob', 'Charlie'],\n",
    "        'Age': [25, 30, 35]}\n",
    "df = pd.DataFrame(data)\n",
    "\n",
    "# Perform data analysis\n",
    "average_age = df['Age'].mean()\n",
    "\n",
    "print(\"DataFrame:\")\n",
    "print(df)\n",
    "print(\"Average Age:\", average_age)\n"
   ]
  },
  {
   "cell_type": "code",
   "execution_count": null,
   "id": "ce5d2eed",
   "metadata": {},
   "outputs": [],
   "source": [
    "EXPLAIN THE FOLLOWING AND CREATE 2 JUPYPTER NOTEBOOK EXAMPLES "
   ]
  },
  {
   "cell_type": "code",
   "execution_count": null,
   "id": "d82a38fd",
   "metadata": {},
   "outputs": [],
   "source": [
    "Indexes in Pandas:\n",
    "    What Can Be Stored in Indexes:\n",
    "\n",
    "    Indexes in Pandas can store various types of data, including:\n",
    "    Integer labels: Numeric identifiers for rows or columns.\n",
    "    String labels: Text-based labels to identify rows or columns.\n",
    "    Datetime objects: Timestamps to index time-series data.\n",
    "    Categorical data: Indexes can store categorical data types, which are used for categorical variables.\n",
    "    Hierarchical Indexing (MultiIndex): Indexes can have multiple levels, allowing for more complex data structures.\n",
    "\n",
    "    What They Are Used For:\n",
    "\n",
    "    Indexes provide a way to access, filter, and manipulate data efficiently.\n",
    "    In Series, indexes label individual data points, while in DataFrames, indexes label both rows and columns.\n",
    "    Indexes are used to align data during operations, such as arithmetic operations, merging/joining, and filtering.\n",
    "    \n",
    "    Index Alignment Scenarios:\n",
    "\n",
    "    Index alignment is the process of matching rows and columns based on their indexes when performing operations.\n",
    "    Pandas automatically aligns data based on indexes to ensure that operations are performed correctly.\n",
    "    Under different scenarios, index alignment can lead to different outcomes, such as element-wise addition \n",
    "    of matching elements and NaN values for non-matching elements."
   ]
  },
  {
   "cell_type": "code",
   "execution_count": null,
   "id": "794eb787",
   "metadata": {},
   "outputs": [],
   "source": [
    "    Example 1: Using Indexes in a Series"
   ]
  },
  {
   "cell_type": "code",
   "execution_count": 30,
   "id": "7fe4c32d",
   "metadata": {},
   "outputs": [
    {
     "name": "stdout",
     "output_type": "stream",
     "text": [
      "Custom Index Series:\n",
      "B    20.0\n",
      "A    10.0\n",
      "D     NaN\n",
      "dtype: float64\n",
      "Value at 'A': 10.0\n",
      "Value at 'D': nan\n",
      "Addition Result:\n",
      "B    40.0\n",
      "A    20.0\n",
      "D     NaN\n",
      "dtype: float64\n"
     ]
    }
   ],
   "source": [
    "import pandas as pd\n",
    "\n",
    "# Create a Series with custom index\n",
    "data = {'A': 10, 'B': 20, 'C': 30}\n",
    "custom_index = pd.Series(data, index=['B', 'A', 'D'])\n",
    "\n",
    "# Accessing data using the index\n",
    "value_A = custom_index['A']  # 10\n",
    "value_D = custom_index['D']  # NaN\n",
    "\n",
    "# Arithmetic operation with index alignment\n",
    "addition_result = custom_index + custom_index  # Elements are aligned based on index\n",
    "\n",
    "print(\"Custom Index Series:\")\n",
    "print(custom_index)\n",
    "print(\"Value at 'A':\", value_A)\n",
    "print(\"Value at 'D':\", value_D)\n",
    "print(\"Addition Result:\")\n",
    "print(addition_result)\n"
   ]
  },
  {
   "cell_type": "code",
   "execution_count": null,
   "id": "0bf75e58",
   "metadata": {},
   "outputs": [],
   "source": [
    "    Example 2: Using Indexes in DataFrames"
   ]
  },
  {
   "cell_type": "code",
   "execution_count": 31,
   "id": "fa7c6345",
   "metadata": {},
   "outputs": [
    {
     "name": "stdout",
     "output_type": "stream",
     "text": [
      "DataFrame 1:\n",
      "   A  B\n",
      "x  1  4\n",
      "y  2  5\n",
      "z  3  6\n",
      "DataFrame 2:\n",
      "   A   B\n",
      "y  7  10\n",
      "z  8  11\n",
      "w  9  12\n",
      "Addition Result:\n",
      "      A     B\n",
      "w   NaN   NaN\n",
      "x   NaN   NaN\n",
      "y   9.0  15.0\n",
      "z  11.0  17.0\n"
     ]
    }
   ],
   "source": [
    "import pandas as pd\n",
    "\n",
    "# Create two DataFrames with different indexes\n",
    "data1 = {'A': [1, 2, 3], 'B': [4, 5, 6]}\n",
    "data2 = {'A': [7, 8, 9], 'B': [10, 11, 12]}\n",
    "df1 = pd.DataFrame(data1, index=['x', 'y', 'z'])\n",
    "df2 = pd.DataFrame(data2, index=['y', 'z', 'w'])\n",
    "\n",
    "# Adding DataFrames with index alignment\n",
    "addition_result = df1 + df2  # Elements are aligned based on index\n",
    "\n",
    "print(\"DataFrame 1:\")\n",
    "print(df1)\n",
    "print(\"DataFrame 2:\")\n",
    "print(df2)\n",
    "print(\"Addition Result:\")\n",
    "print(addition_result)\n"
   ]
  },
  {
   "cell_type": "code",
   "execution_count": null,
   "id": "c17d4bf6",
   "metadata": {},
   "outputs": [],
   "source": [
    "EXPLAIN THE FOLLOWING AND CREATE 2 JUPYPTER NOTEBOOK EXAMPLES "
   ]
  },
  {
   "cell_type": "code",
   "execution_count": null,
   "id": "d7cb11af",
   "metadata": {},
   "outputs": [],
   "source": [
    "Series in Pandas:\n",
    "    \n",
    "    Creating Series:\n",
    "        \n",
    "    Series in Pandas can be created using the pd.Series() constructor, and you can provide data as a list, \n",
    "    NumPy array, dictionary, or other iterable objects. You can also specify custom indexes to label the data."
   ]
  },
  {
   "cell_type": "code",
   "execution_count": null,
   "id": "234438db",
   "metadata": {},
   "outputs": [],
   "source": [
    "    Example 1: Creating a Series"
   ]
  },
  {
   "cell_type": "code",
   "execution_count": 5,
   "id": "e0a6a2f2",
   "metadata": {
    "scrolled": true
   },
   "outputs": [
    {
     "data": {
      "text/plain": [
       "0    10\n",
       "1    20\n",
       "2    30\n",
       "3    40\n",
       "4    50\n",
       "Name: Numbers, dtype: int64"
      ]
     },
     "execution_count": 5,
     "metadata": {},
     "output_type": "execute_result"
    }
   ],
   "source": [
    "import pandas as pd\n",
    "\n",
    "# Create a Series from a list\n",
    "data = [10, 20, 30, 40, 50]\n",
    "series = pd.Series(data, name=\"Numbers\")\n",
    "series"
   ]
  },
  {
   "cell_type": "code",
   "execution_count": 6,
   "id": "a727c1f1",
   "metadata": {},
   "outputs": [
    {
     "data": {
      "text/plain": [
       "A    10\n",
       "B    20\n",
       "C    30\n",
       "dtype: int64"
      ]
     },
     "execution_count": 6,
     "metadata": {},
     "output_type": "execute_result"
    }
   ],
   "source": [
    "import pandas as pd\n",
    "\n",
    "# Create a Series with custom index\n",
    "data_dict = {'A': 10, 'B': 20, 'C': 30}\n",
    "custom_index_series = pd.Series(data_dict)\n",
    "custom_index_series"
   ]
  },
  {
   "cell_type": "code",
   "execution_count": null,
   "id": "32d94ceb",
   "metadata": {},
   "outputs": [],
   "source": [
    "Indexing and Slicing:\n",
    "\n",
    "    You can access elements in a Series using square brackets [] with either the index label or integer position.\n",
    "    Slicing allows you to extract a subset of the Series."
   ]
  },
  {
   "cell_type": "code",
   "execution_count": 10,
   "id": "0652c333",
   "metadata": {},
   "outputs": [],
   "source": [
    "# Accessing elements by index label or position\n",
    "value_a = series['A']  # By label\n",
    "value_1 = series[1]    # By position\n",
    "\n",
    "# Slicing\n",
    "subset = series[1:4]  # Slicing from index 1 to 3 (exclusive)\n"
   ]
  },
  {
   "cell_type": "code",
   "execution_count": null,
   "id": "da797c4e",
   "metadata": {},
   "outputs": [],
   "source": [
    "    Filtering:\n",
    "    \n",
    "    You can filter a Series using Boolean indexing, where you provide a condition that returns a boolean Series. \n",
    "    The original Series is filtered based on this condition."
   ]
  },
  {
   "cell_type": "code",
   "execution_count": null,
   "id": "ed393d1f",
   "metadata": {},
   "outputs": [],
   "source": [
    "    Example 3: Filtering a Series"
   ]
  },
  {
   "cell_type": "code",
   "execution_count": null,
   "id": "963301c3",
   "metadata": {},
   "outputs": [],
   "source": [
    "# Filter elements greater than 20\n",
    "filtered_series = series[series > 20]"
   ]
  },
  {
   "cell_type": "code",
   "execution_count": null,
   "id": "5e945d11",
   "metadata": {},
   "outputs": [],
   "source": [
    "    Properties and Methods:\n",
    "        \n",
    "    Series objects have several properties and methods for data manipulation and analysis, \n",
    "    such as sum(), mean(), max(), min(), count(), and more."
   ]
  },
  {
   "cell_type": "code",
   "execution_count": null,
   "id": "cc45e129",
   "metadata": {},
   "outputs": [],
   "source": [
    "    Example 4: Using Properties and Methods"
   ]
  },
  {
   "cell_type": "code",
   "execution_count": null,
   "id": "2d7ba5db",
   "metadata": {},
   "outputs": [],
   "source": [
    "# Calculate mean and max of the Series\n",
    "mean_value = series.mean()\n",
    "max_value = series.max()"
   ]
  },
  {
   "cell_type": "code",
   "execution_count": null,
   "id": "d15bdae6",
   "metadata": {},
   "outputs": [],
   "source": [
    "    Series Operations:\n",
    "        \n",
    "    When performing operations on Series, Pandas aligns data based on index labels. \n",
    "    Operations are element-wise, and missing values (NaN) are inserted when index labels do not match."
   ]
  },
  {
   "cell_type": "code",
   "execution_count": null,
   "id": "d2c06544",
   "metadata": {},
   "outputs": [],
   "source": [
    "    Example 5: Series Operations with Different Sizes"
   ]
  },
  {
   "cell_type": "code",
   "execution_count": 37,
   "id": "9068b9b0",
   "metadata": {},
   "outputs": [
    {
     "data": {
      "text/plain": [
       "A     NaN\n",
       "B    25.0\n",
       "C     NaN\n",
       "D     NaN\n",
       "dtype: float64"
      ]
     },
     "execution_count": 37,
     "metadata": {},
     "output_type": "execute_result"
    }
   ],
   "source": [
    "# Create two Series with different indexes\n",
    "series1 = pd.Series([10, 20, 30], index=['A', 'B', 'C'])\n",
    "series2 = pd.Series([5, 15], index=['B', 'D'])\n",
    "\n",
    "# Add the two Series\n",
    "result = series1 + series2\n",
    "result"
   ]
  },
  {
   "cell_type": "code",
   "execution_count": null,
   "id": "aafc3e90",
   "metadata": {},
   "outputs": [],
   "source": [
    "EXPLAIN THE FOLLOWING AND CREATE 2 JUPYPTER NOTEBOOK EXAMPLES "
   ]
  },
  {
   "cell_type": "code",
   "execution_count": null,
   "id": "6da66094",
   "metadata": {},
   "outputs": [],
   "source": [
    "3. DataFrames\n",
    "● Know how to create, index, slice, and filter DataFrames\n",
    "● Know how to use the properties and methods listed on your notes for DataFrames\n",
    "● Know how and when to use groupby\n",
    "● Know how to use the .apply() method on a DataFrame\n",
    "● Know what joins are and the different types of joins\n",
    "● Don’t need to know about rolling and expanding windows\n"
   ]
  },
  {
   "cell_type": "code",
   "execution_count": null,
   "id": "37f74bb9",
   "metadata": {},
   "outputs": [],
   "source": [
    "    DataFrames in Pandas:\n",
    "        \n",
    "    Creating DataFrames:\n",
    "    DataFrames are 2D data structures that can be created using the pd.DataFrame() constructor.\n",
    "    You can provide data as a dictionary, list of dictionaries, NumPy array, or other data structures."
   ]
  },
  {
   "cell_type": "code",
   "execution_count": null,
   "id": "be95fcf4",
   "metadata": {},
   "outputs": [],
   "source": [
    "    Example 1: Creating a DataFrame"
   ]
  },
  {
   "cell_type": "code",
   "execution_count": 43,
   "id": "1ad1ae58",
   "metadata": {},
   "outputs": [
    {
     "data": {
      "text/html": [
       "<div>\n",
       "<style scoped>\n",
       "    .dataframe tbody tr th:only-of-type {\n",
       "        vertical-align: middle;\n",
       "    }\n",
       "\n",
       "    .dataframe tbody tr th {\n",
       "        vertical-align: top;\n",
       "    }\n",
       "\n",
       "    .dataframe thead th {\n",
       "        text-align: right;\n",
       "    }\n",
       "</style>\n",
       "<table border=\"1\" class=\"dataframe\">\n",
       "  <thead>\n",
       "    <tr style=\"text-align: right;\">\n",
       "      <th></th>\n",
       "      <th>Name</th>\n",
       "      <th>Age</th>\n",
       "    </tr>\n",
       "  </thead>\n",
       "  <tbody>\n",
       "    <tr>\n",
       "      <th>0</th>\n",
       "      <td>Alice</td>\n",
       "      <td>25</td>\n",
       "    </tr>\n",
       "    <tr>\n",
       "      <th>1</th>\n",
       "      <td>Bob</td>\n",
       "      <td>30</td>\n",
       "    </tr>\n",
       "    <tr>\n",
       "      <th>2</th>\n",
       "      <td>Charlie</td>\n",
       "      <td>35</td>\n",
       "    </tr>\n",
       "  </tbody>\n",
       "</table>\n",
       "</div>"
      ],
      "text/plain": [
       "      Name  Age\n",
       "0    Alice   25\n",
       "1      Bob   30\n",
       "2  Charlie   35"
      ]
     },
     "execution_count": 43,
     "metadata": {},
     "output_type": "execute_result"
    }
   ],
   "source": [
    "import pandas as pd\n",
    "\n",
    "# Create a DataFrame from a dictionary\n",
    "data = {'Name': ['Alice', 'Bob', 'Charlie'],\n",
    "        'Age': [25, 30, 35]}\n",
    "df = pd.DataFrame(data)\n",
    "df"
   ]
  },
  {
   "cell_type": "code",
   "execution_count": null,
   "id": "d08bbf62",
   "metadata": {},
   "outputs": [],
   "source": [
    "    Indexing, Slicing, and Filtering:\n",
    "        \n",
    "    You can access specific columns, rows, or elements in a DataFrame using various indexing and slicing techniques.\n",
    "    Filtering is done using Boolean indexing, similar to Series."
   ]
  },
  {
   "cell_type": "code",
   "execution_count": null,
   "id": "e42bf567",
   "metadata": {},
   "outputs": [],
   "source": [
    "    Example 2: Indexing and Filtering a DataFrame"
   ]
  },
  {
   "cell_type": "code",
   "execution_count": 42,
   "id": "0d5ed745",
   "metadata": {},
   "outputs": [
    {
     "data": {
      "text/html": [
       "<div>\n",
       "<style scoped>\n",
       "    .dataframe tbody tr th:only-of-type {\n",
       "        vertical-align: middle;\n",
       "    }\n",
       "\n",
       "    .dataframe tbody tr th {\n",
       "        vertical-align: top;\n",
       "    }\n",
       "\n",
       "    .dataframe thead th {\n",
       "        text-align: right;\n",
       "    }\n",
       "</style>\n",
       "<table border=\"1\" class=\"dataframe\">\n",
       "  <thead>\n",
       "    <tr style=\"text-align: right;\">\n",
       "      <th></th>\n",
       "      <th>Name</th>\n",
       "      <th>Age</th>\n",
       "    </tr>\n",
       "  </thead>\n",
       "  <tbody>\n",
       "    <tr>\n",
       "      <th>2</th>\n",
       "      <td>Charlie</td>\n",
       "      <td>35</td>\n",
       "    </tr>\n",
       "  </tbody>\n",
       "</table>\n",
       "</div>"
      ],
      "text/plain": [
       "      Name  Age\n",
       "2  Charlie   35"
      ]
     },
     "execution_count": 42,
     "metadata": {},
     "output_type": "execute_result"
    }
   ],
   "source": [
    "# Access a specific column\n",
    "names = df['Name']\n",
    "\n",
    "# Access a specific row by index\n",
    "row = df.loc[1]  # Using index label\n",
    "\n",
    "# Filtering based on a condition\n",
    "filtered_df = df[df['Age'] > 30]\n",
    "filtered_df"
   ]
  },
  {
   "cell_type": "code",
   "execution_count": null,
   "id": "4d8dc2b7",
   "metadata": {},
   "outputs": [],
   "source": [
    "    Properties and Methods:\n",
    "        \n",
    "    DataFrames have properties and methods for data manipulation and analysis, \n",
    "    such as head(), tail(), describe(), shape, columns, and more."
   ]
  },
  {
   "cell_type": "code",
   "execution_count": 44,
   "id": "6e242672",
   "metadata": {},
   "outputs": [
    {
     "data": {
      "text/html": [
       "<div>\n",
       "<style scoped>\n",
       "    .dataframe tbody tr th:only-of-type {\n",
       "        vertical-align: middle;\n",
       "    }\n",
       "\n",
       "    .dataframe tbody tr th {\n",
       "        vertical-align: top;\n",
       "    }\n",
       "\n",
       "    .dataframe thead th {\n",
       "        text-align: right;\n",
       "    }\n",
       "</style>\n",
       "<table border=\"1\" class=\"dataframe\">\n",
       "  <thead>\n",
       "    <tr style=\"text-align: right;\">\n",
       "      <th></th>\n",
       "      <th>Age</th>\n",
       "    </tr>\n",
       "  </thead>\n",
       "  <tbody>\n",
       "    <tr>\n",
       "      <th>count</th>\n",
       "      <td>3.0</td>\n",
       "    </tr>\n",
       "    <tr>\n",
       "      <th>mean</th>\n",
       "      <td>30.0</td>\n",
       "    </tr>\n",
       "    <tr>\n",
       "      <th>std</th>\n",
       "      <td>5.0</td>\n",
       "    </tr>\n",
       "    <tr>\n",
       "      <th>min</th>\n",
       "      <td>25.0</td>\n",
       "    </tr>\n",
       "    <tr>\n",
       "      <th>25%</th>\n",
       "      <td>27.5</td>\n",
       "    </tr>\n",
       "    <tr>\n",
       "      <th>50%</th>\n",
       "      <td>30.0</td>\n",
       "    </tr>\n",
       "    <tr>\n",
       "      <th>75%</th>\n",
       "      <td>32.5</td>\n",
       "    </tr>\n",
       "    <tr>\n",
       "      <th>max</th>\n",
       "      <td>35.0</td>\n",
       "    </tr>\n",
       "  </tbody>\n",
       "</table>\n",
       "</div>"
      ],
      "text/plain": [
       "        Age\n",
       "count   3.0\n",
       "mean   30.0\n",
       "std     5.0\n",
       "min    25.0\n",
       "25%    27.5\n",
       "50%    30.0\n",
       "75%    32.5\n",
       "max    35.0"
      ]
     },
     "execution_count": 44,
     "metadata": {},
     "output_type": "execute_result"
    }
   ],
   "source": [
    "# Display the first few rows\n",
    "first_rows = df.head()\n",
    "\n",
    "# Summary statistics\n",
    "summary = df.describe()\n",
    "summary"
   ]
  },
  {
   "cell_type": "code",
   "execution_count": null,
   "id": "234382f6",
   "metadata": {},
   "outputs": [],
   "source": [
    "    groupby:\n",
    "        \n",
    "    groupby is used to group data based on one or more columns and perform aggregate operations on the groups.\n",
    "    It is commonly used with methods like mean(), sum(), count(), etc."
   ]
  },
  {
   "cell_type": "code",
   "execution_count": 45,
   "id": "224085c8",
   "metadata": {},
   "outputs": [
    {
     "name": "stderr",
     "output_type": "stream",
     "text": [
      "C:\\Users\\franc\\AppData\\Local\\Temp\\ipykernel_12256\\2834224930.py:2: FutureWarning: The default value of numeric_only in DataFrameGroupBy.mean is deprecated. In a future version, numeric_only will default to False. Either specify numeric_only or select only columns which should be valid for the function.\n",
      "  grouped = df.groupby('Age').mean()\n"
     ]
    },
    {
     "data": {
      "text/html": [
       "<div>\n",
       "<style scoped>\n",
       "    .dataframe tbody tr th:only-of-type {\n",
       "        vertical-align: middle;\n",
       "    }\n",
       "\n",
       "    .dataframe tbody tr th {\n",
       "        vertical-align: top;\n",
       "    }\n",
       "\n",
       "    .dataframe thead th {\n",
       "        text-align: right;\n",
       "    }\n",
       "</style>\n",
       "<table border=\"1\" class=\"dataframe\">\n",
       "  <thead>\n",
       "    <tr style=\"text-align: right;\">\n",
       "      <th></th>\n",
       "    </tr>\n",
       "    <tr>\n",
       "      <th>Age</th>\n",
       "    </tr>\n",
       "  </thead>\n",
       "  <tbody>\n",
       "    <tr>\n",
       "      <th>25</th>\n",
       "    </tr>\n",
       "    <tr>\n",
       "      <th>30</th>\n",
       "    </tr>\n",
       "    <tr>\n",
       "      <th>35</th>\n",
       "    </tr>\n",
       "  </tbody>\n",
       "</table>\n",
       "</div>"
      ],
      "text/plain": [
       "Empty DataFrame\n",
       "Columns: []\n",
       "Index: [25, 30, 35]"
      ]
     },
     "execution_count": 45,
     "metadata": {},
     "output_type": "execute_result"
    }
   ],
   "source": [
    "# Grouping data by 'Age' and calculating the mean for each group\n",
    "grouped = df.groupby('Age').mean()\n",
    "grouped"
   ]
  },
  {
   "cell_type": "code",
   "execution_count": null,
   "id": "bc3d6f97",
   "metadata": {},
   "outputs": [],
   "source": [
    "    .apply() Method on a DataFrame:\n",
    "        \n",
    "    The .apply() method is used to apply a function to each row or column of a DataFrame.\n",
    "    It is useful for performing custom operations on the data."
   ]
  },
  {
   "cell_type": "code",
   "execution_count": null,
   "id": "91012013",
   "metadata": {},
   "outputs": [],
   "source": [
    "    Example 5: Using .apply()"
   ]
  },
  {
   "cell_type": "code",
   "execution_count": 46,
   "id": "3a0cda06",
   "metadata": {},
   "outputs": [
    {
     "data": {
      "text/html": [
       "<div>\n",
       "<style scoped>\n",
       "    .dataframe tbody tr th:only-of-type {\n",
       "        vertical-align: middle;\n",
       "    }\n",
       "\n",
       "    .dataframe tbody tr th {\n",
       "        vertical-align: top;\n",
       "    }\n",
       "\n",
       "    .dataframe thead th {\n",
       "        text-align: right;\n",
       "    }\n",
       "</style>\n",
       "<table border=\"1\" class=\"dataframe\">\n",
       "  <thead>\n",
       "    <tr style=\"text-align: right;\">\n",
       "      <th></th>\n",
       "      <th>Name</th>\n",
       "      <th>Age</th>\n",
       "      <th>Double_Age</th>\n",
       "    </tr>\n",
       "  </thead>\n",
       "  <tbody>\n",
       "    <tr>\n",
       "      <th>0</th>\n",
       "      <td>Alice</td>\n",
       "      <td>25</td>\n",
       "      <td>50</td>\n",
       "    </tr>\n",
       "    <tr>\n",
       "      <th>1</th>\n",
       "      <td>Bob</td>\n",
       "      <td>30</td>\n",
       "      <td>60</td>\n",
       "    </tr>\n",
       "    <tr>\n",
       "      <th>2</th>\n",
       "      <td>Charlie</td>\n",
       "      <td>35</td>\n",
       "      <td>70</td>\n",
       "    </tr>\n",
       "  </tbody>\n",
       "</table>\n",
       "</div>"
      ],
      "text/plain": [
       "      Name  Age  Double_Age\n",
       "0    Alice   25          50\n",
       "1      Bob   30          60\n",
       "2  Charlie   35          70"
      ]
     },
     "execution_count": 46,
     "metadata": {},
     "output_type": "execute_result"
    }
   ],
   "source": [
    "# Applying a custom function to the 'Age' column\n",
    "def double_age(age):\n",
    "    return age * 2\n",
    "\n",
    "df['Double_Age'] = df['Age'].apply(double_age)\n",
    "\n",
    "df"
   ]
  },
  {
   "cell_type": "code",
   "execution_count": null,
   "id": "4a94ad4b",
   "metadata": {},
   "outputs": [],
   "source": [
    "    Joins:\n",
    "        \n",
    "    Joins combine DataFrames based on common columns to create a new DataFrame.\n",
    "    Common types of joins include inner join, outer join, left join, and right join."
   ]
  },
  {
   "cell_type": "code",
   "execution_count": null,
   "id": "4d97ea15",
   "metadata": {},
   "outputs": [],
   "source": [
    "    Example 6: Using Joins"
   ]
  },
  {
   "cell_type": "code",
   "execution_count": 50,
   "id": "3f2bb890",
   "metadata": {},
   "outputs": [
    {
     "data": {
      "text/html": [
       "<div>\n",
       "<style scoped>\n",
       "    .dataframe tbody tr th:only-of-type {\n",
       "        vertical-align: middle;\n",
       "    }\n",
       "\n",
       "    .dataframe tbody tr th {\n",
       "        vertical-align: top;\n",
       "    }\n",
       "\n",
       "    .dataframe thead th {\n",
       "        text-align: right;\n",
       "    }\n",
       "</style>\n",
       "<table border=\"1\" class=\"dataframe\">\n",
       "  <thead>\n",
       "    <tr style=\"text-align: right;\">\n",
       "      <th></th>\n",
       "      <th>A</th>\n",
       "      <th>B</th>\n",
       "      <th>C</th>\n",
       "    </tr>\n",
       "  </thead>\n",
       "  <tbody>\n",
       "    <tr>\n",
       "      <th>0</th>\n",
       "      <td>A1</td>\n",
       "      <td>B1</td>\n",
       "      <td>C1</td>\n",
       "    </tr>\n",
       "  </tbody>\n",
       "</table>\n",
       "</div>"
      ],
      "text/plain": [
       "    A   B   C\n",
       "0  A1  B1  C1"
      ]
     },
     "execution_count": 50,
     "metadata": {},
     "output_type": "execute_result"
    }
   ],
   "source": [
    "# Create two DataFrames\n",
    "df1 = pd.DataFrame({'A': ['A0', 'A1'], 'B': ['B0', 'B1']})  #In a dictionary, you have a set of key-value pairs enclosed within curly braces. Each key is separated from its corresponding value by a colon (:), and different key-value pairs are separated by commas.\n",
    "df2 = pd.DataFrame({'A': ['A1', 'A2'], 'C': ['C1', 'C2']})\n",
    "\n",
    "# Inner join on column 'A'\n",
    "inner_join = pd.merge(df1, df2, on='A', how='inner')\n",
    "\n",
    "\n",
    "df1\n",
    "df2\n",
    "inner_join"
   ]
  },
  {
   "cell_type": "code",
   "execution_count": null,
   "id": "0c3155cc",
   "metadata": {},
   "outputs": [],
   "source": [
    "EXPLAIN THE FOLLOWING AND CREATE 2 JUPYPTER NOTEBOOK EXAMPLES "
   ]
  },
  {
   "cell_type": "code",
   "execution_count": null,
   "id": "e786722c",
   "metadata": {},
   "outputs": [],
   "source": [
    "Module 3 - Visualizations (Plotting)\n",
    "\n",
    "Plotting\n",
    "\n",
    "Matplotlib:\n",
    "● Know that there are two main plotting objects from the matplotlib package\n",
    "● Know the common types of graphs and what they show (i.e. bar plots show numerical vs\n",
    "categories/strings)\n",
    "● Know how to be able to create a basic plot with labels and titles using matplotlib\n",
    "\n",
    "Pandas\n",
    "● Know the basics of plotting using pandas\n",
    "\n",
    "Seaborn\n",
    "● Know that seaborn can easily create plots that would take a long time to make using\n",
    "solely matplotlib commands"
   ]
  },
  {
   "cell_type": "code",
   "execution_count": null,
   "id": "e60e3d2c",
   "metadata": {},
   "outputs": [],
   "source": [
    "    Matplotlib:\n",
    "        \n",
    "    Two Main Plotting Objects:\n",
    "    Matplotlib primarily offers two main plotting objects: the pyplot interface (commonly imported as plt) \n",
    "    for creating basic plots, and the Figure and Axes objects for more advanced customization."
   ]
  },
  {
   "cell_type": "code",
   "execution_count": null,
   "id": "cd545382",
   "metadata": {},
   "outputs": [],
   "source": [
    "    Example 1: Creating a Basic Plot with Matplotlib"
   ]
  },
  {
   "cell_type": "code",
   "execution_count": 11,
   "id": "f16729e9",
   "metadata": {},
   "outputs": [
    {
     "data": {
      "text/plain": [
       "<function matplotlib.pyplot.show(close=None, block=None)>"
      ]
     },
     "execution_count": 11,
     "metadata": {},
     "output_type": "execute_result"
    },
    {
     "data": {
      "image/png": "[encoded data removed]",
      "text/plain": [
       "<Figure size 640x480 with 1 Axes>"
      ]
     },
     "metadata": {},
     "output_type": "display_data"
    }
   ],
   "source": [
    "import matplotlib.pyplot as plt\n",
    "\n",
    "# Create data\n",
    "x = [1, 2, 3, 4, 5]\n",
    "y = [10, 20, 25, 30, 35]\n",
    "\n",
    "# Create a basic plot\n",
    "plt.plot(x, y)\n",
    "\n",
    "# Add labels and a title\n",
    "plt.xlabel('X-axis Label')\n",
    "plt.ylabel('Y-axis Label')\n",
    "plt.title('Simple Matplotlib Plot')\n",
    "plt.show"
   ]
  },
  {
   "cell_type": "code",
   "execution_count": null,
   "id": "0bb6d7a9",
   "metadata": {},
   "outputs": [],
   "source": [
    "    Common Types of Graphs:\n",
    "        \n",
    "    Matplotlib supports various types of graphs, including line plots, bar plots, scatter plots, \n",
    "    histograms, pie charts, and more.\n",
    "    \n",
    "    Each type of plot is used to represent and visualize different types of data."
   ]
  },
  {
   "cell_type": "code",
   "execution_count": null,
   "id": "89da6e62",
   "metadata": {},
   "outputs": [],
   "source": [
    "    Example 2: Creating a Bar Plot with Matplotlib"
   ]
  },
  {
   "cell_type": "code",
   "execution_count": 52,
   "id": "2db4c8c4",
   "metadata": {},
   "outputs": [
    {
     "data": {
      "text/plain": [
       "Text(0.5, 1.0, 'Bar Plot in Matplotlib')"
      ]
     },
     "execution_count": 52,
     "metadata": {},
     "output_type": "execute_result"
    },
    {
     "data": {
      "image/png": "[encoded data removed]",
      "text/plain": [
       "<Figure size 640x480 with 1 Axes>"
      ]
     },
     "metadata": {},
     "output_type": "display_data"
    }
   ],
   "source": [
    "import matplotlib.pyplot as plt\n",
    "\n",
    "# Data\n",
    "categories = ['Category A', 'Category B', 'Category C']\n",
    "values = [15, 30, 25]\n",
    "\n",
    "# Create a bar plot\n",
    "plt.bar(categories, values)\n",
    "\n",
    "# Add labels and a title\n",
    "plt.xlabel('Categories')\n",
    "plt.ylabel('Values')\n",
    "plt.title('Bar Plot in Matplotlib')\n"
   ]
  },
  {
   "cell_type": "code",
   "execution_count": null,
   "id": "4ebaa80f",
   "metadata": {},
   "outputs": [],
   "source": [
    "    Pandas:\n",
    "\n",
    "    Basics of Plotting Using Pandas:\n",
    "    Pandas provides a convenient way to create basic plots directly from DataFrames and Series using the .plot() method.\n",
    "    You can specify the type of plot using the kind parameter."
   ]
  },
  {
   "cell_type": "code",
   "execution_count": null,
   "id": "9d5654a0",
   "metadata": {},
   "outputs": [],
   "source": [
    "    Example 3: Creating a Line Plot with Pandas"
   ]
  },
  {
   "cell_type": "code",
   "execution_count": 53,
   "id": "2b5ef2e1",
   "metadata": {},
   "outputs": [
    {
     "data": {
      "text/plain": [
       "Text(0.5, 1.0, 'Line Plot with Pandas')"
      ]
     },
     "execution_count": 53,
     "metadata": {},
     "output_type": "execute_result"
    },
    {
     "data": {
      "image/png": "[encoded data removed]",
      "text/plain": [
       "<Figure size 640x480 with 1 Axes>"
      ]
     },
     "metadata": {},
     "output_type": "display_data"
    }
   ],
   "source": [
    "import pandas as pd\n",
    "\n",
    "# Create a DataFrame\n",
    "data = {'x': [1, 2, 3, 4, 5], 'y': [10, 20, 25, 30, 35]}\n",
    "df = pd.DataFrame(data)\n",
    "\n",
    "# Create a line plot\n",
    "df.plot(x='x', y='y', kind='line')\n",
    "\n",
    "# Add labels and a title\n",
    "plt.xlabel('X-axis Label')\n",
    "plt.ylabel('Y-axis Label')\n",
    "plt.title('Line Plot with Pandas')\n"
   ]
  },
  {
   "cell_type": "code",
   "execution_count": null,
   "id": "fc93828c",
   "metadata": {},
   "outputs": [],
   "source": [
    "    Seaborn:\n",
    "        \n",
    "    Seaborn for Complex Plots:\n",
    "        \n",
    "    Seaborn is a higher-level data visualization library built on top of Matplotlib.\n",
    "    It simplifies the creation of complex plots and offers advanced statistical visualization capabilities."
   ]
  },
  {
   "cell_type": "code",
   "execution_count": null,
   "id": "80112396",
   "metadata": {},
   "outputs": [],
   "source": [
    "    Example 4: Creating a Box Plot with Seaborn"
   ]
  },
  {
   "cell_type": "code",
   "execution_count": 54,
   "id": "747ab0bf",
   "metadata": {},
   "outputs": [
    {
     "data": {
      "text/plain": [
       "Text(0.5, 1.0, 'Box Plot with Seaborn')"
      ]
     },
     "execution_count": 54,
     "metadata": {},
     "output_type": "execute_result"
    },
    {
     "data": {
      "image/png": "[encoded data removed]",
      "text/plain": [
       "<Figure size 640x480 with 1 Axes>"
      ]
     },
     "metadata": {},
     "output_type": "display_data"
    }
   ],
   "source": [
    "import seaborn as sns\n",
    "\n",
    "# Create data\n",
    "data = sns.load_dataset('tips')\n",
    "\n",
    "# Create a box plot using Seaborn\n",
    "sns.boxplot(x='day', y='total_bill', data=data)\n",
    "\n",
    "# Add labels and a title\n",
    "plt.xlabel('Day of the Week')\n",
    "plt.ylabel('Total Bill Amount')\n",
    "plt.title('Box Plot with Seaborn')\n"
   ]
  },
  {
   "cell_type": "code",
   "execution_count": null,
   "id": "b1928eb8",
   "metadata": {},
   "outputs": [],
   "source": [
    "In these examples, we explore the basics of plotting using Matplotlib, Pandas, and Seaborn. \n",
    "\n",
    "Matplotlib provides a flexible foundation for creating various types of plots, \n",
    "\n",
    "Pandas simplifies basic plotting from DataFrames and Series, \n",
    "\n",
    "and Seaborn streamlines the creation of complex visualizations. \n",
    "\n",
    "Understanding these libraries is essential for data visualization in Python."
   ]
  }
 ],
 "metadata": {
  "kernelspec": {
   "display_name": "Python 3 (ipykernel)",
   "language": "python",
   "name": "python3"
  },
  "language_info": {
   "codemirror_mode": {
    "name": "ipython",
    "version": 3
   },
   "file_extension": ".py",
   "mimetype": "text/x-python",
   "name": "python",
   "nbconvert_exporter": "python",
   "pygments_lexer": "ipython3",
   "version": "3.11.4"
  }
 },
 "nbformat": 4,
 "nbformat_minor": 5
}
